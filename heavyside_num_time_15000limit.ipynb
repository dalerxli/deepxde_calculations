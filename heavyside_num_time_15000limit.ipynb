{
  "nbformat": 4,
  "nbformat_minor": 0,
  "metadata": {
    "accelerator": "GPU",
    "colab": {
      "name": "heavyside_num_time.ipynb",
      "provenance": [],
      "authorship_tag": "ABX9TyOD6Hs8RH9H1qmUC4LG/1Cy",
      "include_colab_link": true
    },
    "kernelspec": {
      "display_name": "Python 3",
      "name": "python3"
    },
    "language_info": {
      "name": "python"
    }
  },
  "cells": [
    {
      "cell_type": "markdown",
      "metadata": {
        "id": "view-in-github",
        "colab_type": "text"
      },
      "source": [
        "<a href=\"https://colab.research.google.com/github/sashahexe/Masterthesis-template-NAWI-Graz/blob/master/heavyside_num_time_15000limit.ipynb\" target=\"_parent\"><img src=\"https://colab.research.google.com/assets/colab-badge.svg\" alt=\"Open In Colab\"/></a>"
      ]
    },
    {
      "cell_type": "code",
      "metadata": {
        "colab": {
          "base_uri": "https://localhost:8080/"
        },
        "id": "tfJTjGiDowF1",
        "outputId": "ea667db7-275d-4211-f2e2-c14ddd2c2d31"
      },
      "source": [
        "!git clone https://github.com/lululxvi/deepxde.git"
      ],
      "execution_count": 2,
      "outputs": [
        {
          "output_type": "stream",
          "text": [
            "Cloning into 'deepxde'...\n",
            "remote: Enumerating objects: 4297, done.\u001b[K\n",
            "remote: Counting objects: 100% (1429/1429), done.\u001b[K\n",
            "remote: Compressing objects: 100% (620/620), done.\u001b[K\n",
            "remote: Total 4297 (delta 899), reused 1118 (delta 793), pack-reused 2868\u001b[K\n",
            "Receiving objects: 100% (4297/4297), 1.95 MiB | 12.51 MiB/s, done.\n",
            "Resolving deltas: 100% (3065/3065), done.\n"
          ],
          "name": "stdout"
        }
      ]
    },
    {
      "cell_type": "code",
      "metadata": {
        "colab": {
          "base_uri": "https://localhost:8080/"
        },
        "id": "Udt-fOdnov2a",
        "outputId": "5f6770aa-75c7-48ea-8e9d-7134313297a4"
      },
      "source": [
        "%cd deepxde\n"
      ],
      "execution_count": 3,
      "outputs": [
        {
          "output_type": "stream",
          "text": [
            "/content/deepxde\n"
          ],
          "name": "stdout"
        }
      ]
    },
    {
      "cell_type": "code",
      "metadata": {
        "colab": {
          "base_uri": "https://localhost:8080/"
        },
        "id": "iExu-Cvnovyz",
        "outputId": "007c8efb-68c8-4ad3-fa34-ccff5b1b47bf"
      },
      "source": [
        "!git pull origin master"
      ],
      "execution_count": 4,
      "outputs": [
        {
          "output_type": "stream",
          "text": [
            "From https://github.com/lululxvi/deepxde\n",
            " * branch            master     -> FETCH_HEAD\n",
            "Already up to date.\n"
          ],
          "name": "stdout"
        }
      ]
    },
    {
      "cell_type": "code",
      "metadata": {
        "colab": {
          "base_uri": "https://localhost:8080/"
        },
        "id": "7nH_WI3TovvB",
        "outputId": "36d57617-f330-4d60-c2b9-f0002d2ae38d"
      },
      "source": [
        "!pip install -r requirements.txt"
      ],
      "execution_count": 5,
      "outputs": [
        {
          "output_type": "stream",
          "text": [
            "Requirement already satisfied: matplotlib in /usr/local/lib/python3.7/dist-packages (from -r requirements.txt (line 1)) (3.2.2)\n",
            "Requirement already satisfied: numpy in /usr/local/lib/python3.7/dist-packages (from -r requirements.txt (line 2)) (1.19.5)\n",
            "Requirement already satisfied: scikit-learn in /usr/local/lib/python3.7/dist-packages (from -r requirements.txt (line 3)) (0.22.2.post1)\n",
            "Collecting scikit-optimize\n",
            "  Downloading scikit_optimize-0.8.1-py2.py3-none-any.whl (101 kB)\n",
            "\u001b[K     |████████████████████████████████| 101 kB 3.8 MB/s \n",
            "\u001b[?25hRequirement already satisfied: scipy in /usr/local/lib/python3.7/dist-packages (from -r requirements.txt (line 5)) (1.4.1)\n",
            "Requirement already satisfied: python-dateutil>=2.1 in /usr/local/lib/python3.7/dist-packages (from matplotlib->-r requirements.txt (line 1)) (2.8.2)\n",
            "Requirement already satisfied: kiwisolver>=1.0.1 in /usr/local/lib/python3.7/dist-packages (from matplotlib->-r requirements.txt (line 1)) (1.3.1)\n",
            "Requirement already satisfied: cycler>=0.10 in /usr/local/lib/python3.7/dist-packages (from matplotlib->-r requirements.txt (line 1)) (0.10.0)\n",
            "Requirement already satisfied: pyparsing!=2.0.4,!=2.1.2,!=2.1.6,>=2.0.1 in /usr/local/lib/python3.7/dist-packages (from matplotlib->-r requirements.txt (line 1)) (2.4.7)\n",
            "Requirement already satisfied: six in /usr/local/lib/python3.7/dist-packages (from cycler>=0.10->matplotlib->-r requirements.txt (line 1)) (1.15.0)\n",
            "Requirement already satisfied: joblib>=0.11 in /usr/local/lib/python3.7/dist-packages (from scikit-learn->-r requirements.txt (line 3)) (1.0.1)\n",
            "Collecting pyaml>=16.9\n",
            "  Downloading pyaml-21.8.3-py2.py3-none-any.whl (17 kB)\n",
            "Requirement already satisfied: PyYAML in /usr/local/lib/python3.7/dist-packages (from pyaml>=16.9->scikit-optimize->-r requirements.txt (line 4)) (3.13)\n",
            "Installing collected packages: pyaml, scikit-optimize\n",
            "Successfully installed pyaml-21.8.3 scikit-optimize-0.8.1\n"
          ],
          "name": "stdout"
        }
      ]
    },
    {
      "cell_type": "code",
      "metadata": {
        "colab": {
          "base_uri": "https://localhost:8080/"
        },
        "id": "NlMmY4M8ovnP",
        "outputId": "665a6f08-ef24-4de5-91a8-2e0bae71d872"
      },
      "source": [
        "!python setup.py install"
      ],
      "execution_count": 6,
      "outputs": [
        {
          "output_type": "stream",
          "text": [
            "/usr/local/lib/python3.7/dist-packages/setuptools/dist.py:700: UserWarning: Usage of dash-separated 'description-file' will not be supported in future versions. Please use the underscore name 'description_file' instead\n",
            "  % (opt, underscore_opt))\n",
            "running install\n",
            "running bdist_egg\n",
            "running egg_info\n",
            "creating DeepXDE.egg-info\n",
            "writing DeepXDE.egg-info/PKG-INFO\n",
            "writing dependency_links to DeepXDE.egg-info/dependency_links.txt\n",
            "writing requirements to DeepXDE.egg-info/requires.txt\n",
            "writing top-level names to DeepXDE.egg-info/top_level.txt\n",
            "writing manifest file 'DeepXDE.egg-info/SOURCES.txt'\n",
            "reading manifest template 'MANIFEST.in'\n",
            "adding license file 'LICENSE'\n",
            "writing manifest file 'DeepXDE.egg-info/SOURCES.txt'\n",
            "installing library code to build/bdist.linux-x86_64/egg\n",
            "running install_lib\n",
            "running build_py\n",
            "creating build\n",
            "creating build/lib\n",
            "creating build/lib/deepxde\n",
            "copying deepxde/callbacks.py -> build/lib/deepxde\n",
            "copying deepxde/losses.py -> build/lib/deepxde\n",
            "copying deepxde/gradients.py -> build/lib/deepxde\n",
            "copying deepxde/config.py -> build/lib/deepxde\n",
            "copying deepxde/real.py -> build/lib/deepxde\n",
            "copying deepxde/postprocessing.py -> build/lib/deepxde\n",
            "copying deepxde/__init__.py -> build/lib/deepxde\n",
            "copying deepxde/display.py -> build/lib/deepxde\n",
            "copying deepxde/__about__.py -> build/lib/deepxde\n",
            "copying deepxde/model.py -> build/lib/deepxde\n",
            "copying deepxde/metrics.py -> build/lib/deepxde\n",
            "creating build/lib/deepxde/backend\n",
            "copying deepxde/backend/backend.py -> build/lib/deepxde/backend\n",
            "copying deepxde/backend/__init__.py -> build/lib/deepxde/backend\n",
            "copying deepxde/backend/set_default_backend.py -> build/lib/deepxde/backend\n",
            "creating build/lib/deepxde/nn\n",
            "copying deepxde/nn/regularizers.py -> build/lib/deepxde/nn\n",
            "copying deepxde/nn/__init__.py -> build/lib/deepxde/nn\n",
            "copying deepxde/nn/initializers.py -> build/lib/deepxde/nn\n",
            "copying deepxde/nn/activations.py -> build/lib/deepxde/nn\n",
            "creating build/lib/deepxde/geometry\n",
            "copying deepxde/geometry/geometry_2d.py -> build/lib/deepxde/geometry\n",
            "copying deepxde/geometry/timedomain.py -> build/lib/deepxde/geometry\n",
            "copying deepxde/geometry/geometry_nd.py -> build/lib/deepxde/geometry\n",
            "copying deepxde/geometry/geometry.py -> build/lib/deepxde/geometry\n",
            "copying deepxde/geometry/geometry_1d.py -> build/lib/deepxde/geometry\n",
            "copying deepxde/geometry/__init__.py -> build/lib/deepxde/geometry\n",
            "copying deepxde/geometry/geometry_3d.py -> build/lib/deepxde/geometry\n",
            "copying deepxde/geometry/sampler.py -> build/lib/deepxde/geometry\n",
            "copying deepxde/geometry/csg.py -> build/lib/deepxde/geometry\n",
            "creating build/lib/deepxde/utils\n",
            "copying deepxde/utils/tensorflow.py -> build/lib/deepxde/utils\n",
            "copying deepxde/utils/array_ops_compat.py -> build/lib/deepxde/utils\n",
            "copying deepxde/utils/__init__.py -> build/lib/deepxde/utils\n",
            "copying deepxde/utils/external.py -> build/lib/deepxde/utils\n",
            "copying deepxde/utils/pytorch.py -> build/lib/deepxde/utils\n",
            "copying deepxde/utils/internal.py -> build/lib/deepxde/utils\n",
            "copying deepxde/utils/tensorflow_compat_v1.py -> build/lib/deepxde/utils\n",
            "creating build/lib/deepxde/icbcs\n",
            "copying deepxde/icbcs/boundary_conditions.py -> build/lib/deepxde/icbcs\n",
            "copying deepxde/icbcs/__init__.py -> build/lib/deepxde/icbcs\n",
            "copying deepxde/icbcs/initial_conditions.py -> build/lib/deepxde/icbcs\n",
            "creating build/lib/deepxde/optimizers\n",
            "copying deepxde/optimizers/config.py -> build/lib/deepxde/optimizers\n",
            "copying deepxde/optimizers/__init__.py -> build/lib/deepxde/optimizers\n",
            "creating build/lib/deepxde/data\n",
            "copying deepxde/data/pde.py -> build/lib/deepxde/data\n",
            "copying deepxde/data/data.py -> build/lib/deepxde/data\n",
            "copying deepxde/data/ide.py -> build/lib/deepxde/data\n",
            "copying deepxde/data/func_constraint.py -> build/lib/deepxde/data\n",
            "copying deepxde/data/function.py -> build/lib/deepxde/data\n",
            "copying deepxde/data/fpde.py -> build/lib/deepxde/data\n",
            "copying deepxde/data/mf.py -> build/lib/deepxde/data\n",
            "copying deepxde/data/__init__.py -> build/lib/deepxde/data\n",
            "copying deepxde/data/helper.py -> build/lib/deepxde/data\n",
            "copying deepxde/data/constraint.py -> build/lib/deepxde/data\n",
            "copying deepxde/data/triple.py -> build/lib/deepxde/data\n",
            "copying deepxde/data/sampler.py -> build/lib/deepxde/data\n",
            "copying deepxde/data/dataset.py -> build/lib/deepxde/data\n",
            "copying deepxde/data/mfopdataset.py -> build/lib/deepxde/data\n",
            "creating build/lib/deepxde/backend/tensorflow_compat_v1\n",
            "copying deepxde/backend/tensorflow_compat_v1/tensor.py -> build/lib/deepxde/backend/tensorflow_compat_v1\n",
            "copying deepxde/backend/tensorflow_compat_v1/__init__.py -> build/lib/deepxde/backend/tensorflow_compat_v1\n",
            "creating build/lib/deepxde/backend/tensorflow\n",
            "copying deepxde/backend/tensorflow/tensor.py -> build/lib/deepxde/backend/tensorflow\n",
            "copying deepxde/backend/tensorflow/__init__.py -> build/lib/deepxde/backend/tensorflow\n",
            "creating build/lib/deepxde/backend/pytorch\n",
            "copying deepxde/backend/pytorch/tensor.py -> build/lib/deepxde/backend/pytorch\n",
            "copying deepxde/backend/pytorch/__init__.py -> build/lib/deepxde/backend/pytorch\n",
            "creating build/lib/deepxde/nn/tensorflow_compat_v1\n",
            "copying deepxde/nn/tensorflow_compat_v1/mfonet.py -> build/lib/deepxde/nn/tensorflow_compat_v1\n",
            "copying deepxde/nn/tensorflow_compat_v1/resnet.py -> build/lib/deepxde/nn/tensorflow_compat_v1\n",
            "copying deepxde/nn/tensorflow_compat_v1/nn.py -> build/lib/deepxde/nn/tensorflow_compat_v1\n",
            "copying deepxde/nn/tensorflow_compat_v1/fnn.py -> build/lib/deepxde/nn/tensorflow_compat_v1\n",
            "copying deepxde/nn/tensorflow_compat_v1/__init__.py -> build/lib/deepxde/nn/tensorflow_compat_v1\n",
            "copying deepxde/nn/tensorflow_compat_v1/mfnn.py -> build/lib/deepxde/nn/tensorflow_compat_v1\n",
            "copying deepxde/nn/tensorflow_compat_v1/bionet.py -> build/lib/deepxde/nn/tensorflow_compat_v1\n",
            "copying deepxde/nn/tensorflow_compat_v1/msffn.py -> build/lib/deepxde/nn/tensorflow_compat_v1\n",
            "copying deepxde/nn/tensorflow_compat_v1/deeponet.py -> build/lib/deepxde/nn/tensorflow_compat_v1\n",
            "creating build/lib/deepxde/nn/tensorflow\n",
            "copying deepxde/nn/tensorflow/nn.py -> build/lib/deepxde/nn/tensorflow\n",
            "copying deepxde/nn/tensorflow/fnn.py -> build/lib/deepxde/nn/tensorflow\n",
            "copying deepxde/nn/tensorflow/__init__.py -> build/lib/deepxde/nn/tensorflow\n",
            "copying deepxde/nn/tensorflow/deeponet.py -> build/lib/deepxde/nn/tensorflow\n",
            "creating build/lib/deepxde/nn/pytorch\n",
            "copying deepxde/nn/pytorch/nn.py -> build/lib/deepxde/nn/pytorch\n",
            "copying deepxde/nn/pytorch/fnn.py -> build/lib/deepxde/nn/pytorch\n",
            "copying deepxde/nn/pytorch/__init__.py -> build/lib/deepxde/nn/pytorch\n",
            "creating build/lib/deepxde/optimizers/tensorflow_compat_v1\n",
            "copying deepxde/optimizers/tensorflow_compat_v1/scipy_optimizer.py -> build/lib/deepxde/optimizers/tensorflow_compat_v1\n",
            "copying deepxde/optimizers/tensorflow_compat_v1/optimizers.py -> build/lib/deepxde/optimizers/tensorflow_compat_v1\n",
            "copying deepxde/optimizers/tensorflow_compat_v1/__init__.py -> build/lib/deepxde/optimizers/tensorflow_compat_v1\n",
            "copying deepxde/optimizers/tensorflow_compat_v1/tfp_optimizer.py -> build/lib/deepxde/optimizers/tensorflow_compat_v1\n",
            "creating build/lib/deepxde/optimizers/tensorflow\n",
            "copying deepxde/optimizers/tensorflow/optimizers.py -> build/lib/deepxde/optimizers/tensorflow\n",
            "copying deepxde/optimizers/tensorflow/__init__.py -> build/lib/deepxde/optimizers/tensorflow\n",
            "copying deepxde/optimizers/tensorflow/tfp_optimizer.py -> build/lib/deepxde/optimizers/tensorflow\n",
            "creating build/lib/deepxde/optimizers/pytorch\n",
            "copying deepxde/optimizers/pytorch/optimizers.py -> build/lib/deepxde/optimizers/pytorch\n",
            "copying deepxde/optimizers/pytorch/__init__.py -> build/lib/deepxde/optimizers/pytorch\n",
            "creating build/bdist.linux-x86_64\n",
            "creating build/bdist.linux-x86_64/egg\n",
            "creating build/bdist.linux-x86_64/egg/deepxde\n",
            "copying build/lib/deepxde/callbacks.py -> build/bdist.linux-x86_64/egg/deepxde\n",
            "creating build/bdist.linux-x86_64/egg/deepxde/backend\n",
            "creating build/bdist.linux-x86_64/egg/deepxde/backend/tensorflow_compat_v1\n",
            "copying build/lib/deepxde/backend/tensorflow_compat_v1/tensor.py -> build/bdist.linux-x86_64/egg/deepxde/backend/tensorflow_compat_v1\n",
            "copying build/lib/deepxde/backend/tensorflow_compat_v1/__init__.py -> build/bdist.linux-x86_64/egg/deepxde/backend/tensorflow_compat_v1\n",
            "copying build/lib/deepxde/backend/backend.py -> build/bdist.linux-x86_64/egg/deepxde/backend\n",
            "copying build/lib/deepxde/backend/__init__.py -> build/bdist.linux-x86_64/egg/deepxde/backend\n",
            "copying build/lib/deepxde/backend/set_default_backend.py -> build/bdist.linux-x86_64/egg/deepxde/backend\n",
            "creating build/bdist.linux-x86_64/egg/deepxde/backend/tensorflow\n",
            "copying build/lib/deepxde/backend/tensorflow/tensor.py -> build/bdist.linux-x86_64/egg/deepxde/backend/tensorflow\n",
            "copying build/lib/deepxde/backend/tensorflow/__init__.py -> build/bdist.linux-x86_64/egg/deepxde/backend/tensorflow\n",
            "creating build/bdist.linux-x86_64/egg/deepxde/backend/pytorch\n",
            "copying build/lib/deepxde/backend/pytorch/tensor.py -> build/bdist.linux-x86_64/egg/deepxde/backend/pytorch\n",
            "copying build/lib/deepxde/backend/pytorch/__init__.py -> build/bdist.linux-x86_64/egg/deepxde/backend/pytorch\n",
            "copying build/lib/deepxde/losses.py -> build/bdist.linux-x86_64/egg/deepxde\n",
            "copying build/lib/deepxde/gradients.py -> build/bdist.linux-x86_64/egg/deepxde\n",
            "creating build/bdist.linux-x86_64/egg/deepxde/nn\n",
            "creating build/bdist.linux-x86_64/egg/deepxde/nn/tensorflow_compat_v1\n",
            "copying build/lib/deepxde/nn/tensorflow_compat_v1/mfonet.py -> build/bdist.linux-x86_64/egg/deepxde/nn/tensorflow_compat_v1\n",
            "copying build/lib/deepxde/nn/tensorflow_compat_v1/resnet.py -> build/bdist.linux-x86_64/egg/deepxde/nn/tensorflow_compat_v1\n",
            "copying build/lib/deepxde/nn/tensorflow_compat_v1/nn.py -> build/bdist.linux-x86_64/egg/deepxde/nn/tensorflow_compat_v1\n",
            "copying build/lib/deepxde/nn/tensorflow_compat_v1/fnn.py -> build/bdist.linux-x86_64/egg/deepxde/nn/tensorflow_compat_v1\n",
            "copying build/lib/deepxde/nn/tensorflow_compat_v1/__init__.py -> build/bdist.linux-x86_64/egg/deepxde/nn/tensorflow_compat_v1\n",
            "copying build/lib/deepxde/nn/tensorflow_compat_v1/mfnn.py -> build/bdist.linux-x86_64/egg/deepxde/nn/tensorflow_compat_v1\n",
            "copying build/lib/deepxde/nn/tensorflow_compat_v1/bionet.py -> build/bdist.linux-x86_64/egg/deepxde/nn/tensorflow_compat_v1\n",
            "copying build/lib/deepxde/nn/tensorflow_compat_v1/msffn.py -> build/bdist.linux-x86_64/egg/deepxde/nn/tensorflow_compat_v1\n",
            "copying build/lib/deepxde/nn/tensorflow_compat_v1/deeponet.py -> build/bdist.linux-x86_64/egg/deepxde/nn/tensorflow_compat_v1\n",
            "copying build/lib/deepxde/nn/regularizers.py -> build/bdist.linux-x86_64/egg/deepxde/nn\n",
            "copying build/lib/deepxde/nn/__init__.py -> build/bdist.linux-x86_64/egg/deepxde/nn\n",
            "copying build/lib/deepxde/nn/initializers.py -> build/bdist.linux-x86_64/egg/deepxde/nn\n",
            "copying build/lib/deepxde/nn/activations.py -> build/bdist.linux-x86_64/egg/deepxde/nn\n",
            "creating build/bdist.linux-x86_64/egg/deepxde/nn/tensorflow\n",
            "copying build/lib/deepxde/nn/tensorflow/nn.py -> build/bdist.linux-x86_64/egg/deepxde/nn/tensorflow\n",
            "copying build/lib/deepxde/nn/tensorflow/fnn.py -> build/bdist.linux-x86_64/egg/deepxde/nn/tensorflow\n",
            "copying build/lib/deepxde/nn/tensorflow/__init__.py -> build/bdist.linux-x86_64/egg/deepxde/nn/tensorflow\n",
            "copying build/lib/deepxde/nn/tensorflow/deeponet.py -> build/bdist.linux-x86_64/egg/deepxde/nn/tensorflow\n",
            "creating build/bdist.linux-x86_64/egg/deepxde/nn/pytorch\n",
            "copying build/lib/deepxde/nn/pytorch/nn.py -> build/bdist.linux-x86_64/egg/deepxde/nn/pytorch\n",
            "copying build/lib/deepxde/nn/pytorch/fnn.py -> build/bdist.linux-x86_64/egg/deepxde/nn/pytorch\n",
            "copying build/lib/deepxde/nn/pytorch/__init__.py -> build/bdist.linux-x86_64/egg/deepxde/nn/pytorch\n",
            "copying build/lib/deepxde/config.py -> build/bdist.linux-x86_64/egg/deepxde\n",
            "copying build/lib/deepxde/real.py -> build/bdist.linux-x86_64/egg/deepxde\n",
            "creating build/bdist.linux-x86_64/egg/deepxde/geometry\n",
            "copying build/lib/deepxde/geometry/geometry_2d.py -> build/bdist.linux-x86_64/egg/deepxde/geometry\n",
            "copying build/lib/deepxde/geometry/timedomain.py -> build/bdist.linux-x86_64/egg/deepxde/geometry\n",
            "copying build/lib/deepxde/geometry/geometry_nd.py -> build/bdist.linux-x86_64/egg/deepxde/geometry\n",
            "copying build/lib/deepxde/geometry/geometry.py -> build/bdist.linux-x86_64/egg/deepxde/geometry\n",
            "copying build/lib/deepxde/geometry/geometry_1d.py -> build/bdist.linux-x86_64/egg/deepxde/geometry\n",
            "copying build/lib/deepxde/geometry/__init__.py -> build/bdist.linux-x86_64/egg/deepxde/geometry\n",
            "copying build/lib/deepxde/geometry/geometry_3d.py -> build/bdist.linux-x86_64/egg/deepxde/geometry\n",
            "copying build/lib/deepxde/geometry/sampler.py -> build/bdist.linux-x86_64/egg/deepxde/geometry\n",
            "copying build/lib/deepxde/geometry/csg.py -> build/bdist.linux-x86_64/egg/deepxde/geometry\n",
            "copying build/lib/deepxde/postprocessing.py -> build/bdist.linux-x86_64/egg/deepxde\n",
            "copying build/lib/deepxde/__init__.py -> build/bdist.linux-x86_64/egg/deepxde\n",
            "copying build/lib/deepxde/display.py -> build/bdist.linux-x86_64/egg/deepxde\n",
            "creating build/bdist.linux-x86_64/egg/deepxde/utils\n",
            "copying build/lib/deepxde/utils/tensorflow.py -> build/bdist.linux-x86_64/egg/deepxde/utils\n",
            "copying build/lib/deepxde/utils/array_ops_compat.py -> build/bdist.linux-x86_64/egg/deepxde/utils\n",
            "copying build/lib/deepxde/utils/__init__.py -> build/bdist.linux-x86_64/egg/deepxde/utils\n",
            "copying build/lib/deepxde/utils/external.py -> build/bdist.linux-x86_64/egg/deepxde/utils\n",
            "copying build/lib/deepxde/utils/pytorch.py -> build/bdist.linux-x86_64/egg/deepxde/utils\n",
            "copying build/lib/deepxde/utils/internal.py -> build/bdist.linux-x86_64/egg/deepxde/utils\n",
            "copying build/lib/deepxde/utils/tensorflow_compat_v1.py -> build/bdist.linux-x86_64/egg/deepxde/utils\n",
            "creating build/bdist.linux-x86_64/egg/deepxde/icbcs\n",
            "copying build/lib/deepxde/icbcs/boundary_conditions.py -> build/bdist.linux-x86_64/egg/deepxde/icbcs\n",
            "copying build/lib/deepxde/icbcs/__init__.py -> build/bdist.linux-x86_64/egg/deepxde/icbcs\n",
            "copying build/lib/deepxde/icbcs/initial_conditions.py -> build/bdist.linux-x86_64/egg/deepxde/icbcs\n",
            "creating build/bdist.linux-x86_64/egg/deepxde/optimizers\n",
            "creating build/bdist.linux-x86_64/egg/deepxde/optimizers/tensorflow_compat_v1\n",
            "copying build/lib/deepxde/optimizers/tensorflow_compat_v1/scipy_optimizer.py -> build/bdist.linux-x86_64/egg/deepxde/optimizers/tensorflow_compat_v1\n",
            "copying build/lib/deepxde/optimizers/tensorflow_compat_v1/optimizers.py -> build/bdist.linux-x86_64/egg/deepxde/optimizers/tensorflow_compat_v1\n",
            "copying build/lib/deepxde/optimizers/tensorflow_compat_v1/__init__.py -> build/bdist.linux-x86_64/egg/deepxde/optimizers/tensorflow_compat_v1\n",
            "copying build/lib/deepxde/optimizers/tensorflow_compat_v1/tfp_optimizer.py -> build/bdist.linux-x86_64/egg/deepxde/optimizers/tensorflow_compat_v1\n",
            "copying build/lib/deepxde/optimizers/config.py -> build/bdist.linux-x86_64/egg/deepxde/optimizers\n",
            "copying build/lib/deepxde/optimizers/__init__.py -> build/bdist.linux-x86_64/egg/deepxde/optimizers\n",
            "creating build/bdist.linux-x86_64/egg/deepxde/optimizers/tensorflow\n",
            "copying build/lib/deepxde/optimizers/tensorflow/optimizers.py -> build/bdist.linux-x86_64/egg/deepxde/optimizers/tensorflow\n",
            "copying build/lib/deepxde/optimizers/tensorflow/__init__.py -> build/bdist.linux-x86_64/egg/deepxde/optimizers/tensorflow\n",
            "copying build/lib/deepxde/optimizers/tensorflow/tfp_optimizer.py -> build/bdist.linux-x86_64/egg/deepxde/optimizers/tensorflow\n",
            "creating build/bdist.linux-x86_64/egg/deepxde/optimizers/pytorch\n",
            "copying build/lib/deepxde/optimizers/pytorch/optimizers.py -> build/bdist.linux-x86_64/egg/deepxde/optimizers/pytorch\n",
            "copying build/lib/deepxde/optimizers/pytorch/__init__.py -> build/bdist.linux-x86_64/egg/deepxde/optimizers/pytorch\n",
            "copying build/lib/deepxde/__about__.py -> build/bdist.linux-x86_64/egg/deepxde\n",
            "copying build/lib/deepxde/model.py -> build/bdist.linux-x86_64/egg/deepxde\n",
            "creating build/bdist.linux-x86_64/egg/deepxde/data\n",
            "copying build/lib/deepxde/data/pde.py -> build/bdist.linux-x86_64/egg/deepxde/data\n",
            "copying build/lib/deepxde/data/data.py -> build/bdist.linux-x86_64/egg/deepxde/data\n",
            "copying build/lib/deepxde/data/ide.py -> build/bdist.linux-x86_64/egg/deepxde/data\n",
            "copying build/lib/deepxde/data/func_constraint.py -> build/bdist.linux-x86_64/egg/deepxde/data\n",
            "copying build/lib/deepxde/data/function.py -> build/bdist.linux-x86_64/egg/deepxde/data\n",
            "copying build/lib/deepxde/data/fpde.py -> build/bdist.linux-x86_64/egg/deepxde/data\n",
            "copying build/lib/deepxde/data/mf.py -> build/bdist.linux-x86_64/egg/deepxde/data\n",
            "copying build/lib/deepxde/data/__init__.py -> build/bdist.linux-x86_64/egg/deepxde/data\n",
            "copying build/lib/deepxde/data/helper.py -> build/bdist.linux-x86_64/egg/deepxde/data\n",
            "copying build/lib/deepxde/data/constraint.py -> build/bdist.linux-x86_64/egg/deepxde/data\n",
            "copying build/lib/deepxde/data/triple.py -> build/bdist.linux-x86_64/egg/deepxde/data\n",
            "copying build/lib/deepxde/data/sampler.py -> build/bdist.linux-x86_64/egg/deepxde/data\n",
            "copying build/lib/deepxde/data/dataset.py -> build/bdist.linux-x86_64/egg/deepxde/data\n",
            "copying build/lib/deepxde/data/mfopdataset.py -> build/bdist.linux-x86_64/egg/deepxde/data\n",
            "copying build/lib/deepxde/metrics.py -> build/bdist.linux-x86_64/egg/deepxde\n",
            "byte-compiling build/bdist.linux-x86_64/egg/deepxde/callbacks.py to callbacks.cpython-37.pyc\n",
            "byte-compiling build/bdist.linux-x86_64/egg/deepxde/backend/tensorflow_compat_v1/tensor.py to tensor.cpython-37.pyc\n",
            "byte-compiling build/bdist.linux-x86_64/egg/deepxde/backend/tensorflow_compat_v1/__init__.py to __init__.cpython-37.pyc\n",
            "byte-compiling build/bdist.linux-x86_64/egg/deepxde/backend/backend.py to backend.cpython-37.pyc\n",
            "byte-compiling build/bdist.linux-x86_64/egg/deepxde/backend/__init__.py to __init__.cpython-37.pyc\n",
            "byte-compiling build/bdist.linux-x86_64/egg/deepxde/backend/set_default_backend.py to set_default_backend.cpython-37.pyc\n",
            "byte-compiling build/bdist.linux-x86_64/egg/deepxde/backend/tensorflow/tensor.py to tensor.cpython-37.pyc\n",
            "byte-compiling build/bdist.linux-x86_64/egg/deepxde/backend/tensorflow/__init__.py to __init__.cpython-37.pyc\n",
            "byte-compiling build/bdist.linux-x86_64/egg/deepxde/backend/pytorch/tensor.py to tensor.cpython-37.pyc\n",
            "byte-compiling build/bdist.linux-x86_64/egg/deepxde/backend/pytorch/__init__.py to __init__.cpython-37.pyc\n",
            "byte-compiling build/bdist.linux-x86_64/egg/deepxde/losses.py to losses.cpython-37.pyc\n",
            "byte-compiling build/bdist.linux-x86_64/egg/deepxde/gradients.py to gradients.cpython-37.pyc\n",
            "byte-compiling build/bdist.linux-x86_64/egg/deepxde/nn/tensorflow_compat_v1/mfonet.py to mfonet.cpython-37.pyc\n",
            "byte-compiling build/bdist.linux-x86_64/egg/deepxde/nn/tensorflow_compat_v1/resnet.py to resnet.cpython-37.pyc\n",
            "byte-compiling build/bdist.linux-x86_64/egg/deepxde/nn/tensorflow_compat_v1/nn.py to nn.cpython-37.pyc\n",
            "byte-compiling build/bdist.linux-x86_64/egg/deepxde/nn/tensorflow_compat_v1/fnn.py to fnn.cpython-37.pyc\n",
            "byte-compiling build/bdist.linux-x86_64/egg/deepxde/nn/tensorflow_compat_v1/__init__.py to __init__.cpython-37.pyc\n",
            "byte-compiling build/bdist.linux-x86_64/egg/deepxde/nn/tensorflow_compat_v1/mfnn.py to mfnn.cpython-37.pyc\n",
            "byte-compiling build/bdist.linux-x86_64/egg/deepxde/nn/tensorflow_compat_v1/bionet.py to bionet.cpython-37.pyc\n",
            "byte-compiling build/bdist.linux-x86_64/egg/deepxde/nn/tensorflow_compat_v1/msffn.py to msffn.cpython-37.pyc\n",
            "byte-compiling build/bdist.linux-x86_64/egg/deepxde/nn/tensorflow_compat_v1/deeponet.py to deeponet.cpython-37.pyc\n",
            "byte-compiling build/bdist.linux-x86_64/egg/deepxde/nn/regularizers.py to regularizers.cpython-37.pyc\n",
            "byte-compiling build/bdist.linux-x86_64/egg/deepxde/nn/__init__.py to __init__.cpython-37.pyc\n",
            "byte-compiling build/bdist.linux-x86_64/egg/deepxde/nn/initializers.py to initializers.cpython-37.pyc\n",
            "byte-compiling build/bdist.linux-x86_64/egg/deepxde/nn/activations.py to activations.cpython-37.pyc\n",
            "byte-compiling build/bdist.linux-x86_64/egg/deepxde/nn/tensorflow/nn.py to nn.cpython-37.pyc\n",
            "byte-compiling build/bdist.linux-x86_64/egg/deepxde/nn/tensorflow/fnn.py to fnn.cpython-37.pyc\n",
            "byte-compiling build/bdist.linux-x86_64/egg/deepxde/nn/tensorflow/__init__.py to __init__.cpython-37.pyc\n",
            "byte-compiling build/bdist.linux-x86_64/egg/deepxde/nn/tensorflow/deeponet.py to deeponet.cpython-37.pyc\n",
            "byte-compiling build/bdist.linux-x86_64/egg/deepxde/nn/pytorch/nn.py to nn.cpython-37.pyc\n",
            "byte-compiling build/bdist.linux-x86_64/egg/deepxde/nn/pytorch/fnn.py to fnn.cpython-37.pyc\n",
            "byte-compiling build/bdist.linux-x86_64/egg/deepxde/nn/pytorch/__init__.py to __init__.cpython-37.pyc\n",
            "byte-compiling build/bdist.linux-x86_64/egg/deepxde/config.py to config.cpython-37.pyc\n",
            "byte-compiling build/bdist.linux-x86_64/egg/deepxde/real.py to real.cpython-37.pyc\n",
            "byte-compiling build/bdist.linux-x86_64/egg/deepxde/geometry/geometry_2d.py to geometry_2d.cpython-37.pyc\n",
            "byte-compiling build/bdist.linux-x86_64/egg/deepxde/geometry/timedomain.py to timedomain.cpython-37.pyc\n",
            "byte-compiling build/bdist.linux-x86_64/egg/deepxde/geometry/geometry_nd.py to geometry_nd.cpython-37.pyc\n",
            "byte-compiling build/bdist.linux-x86_64/egg/deepxde/geometry/geometry.py to geometry.cpython-37.pyc\n",
            "byte-compiling build/bdist.linux-x86_64/egg/deepxde/geometry/geometry_1d.py to geometry_1d.cpython-37.pyc\n",
            "byte-compiling build/bdist.linux-x86_64/egg/deepxde/geometry/__init__.py to __init__.cpython-37.pyc\n",
            "byte-compiling build/bdist.linux-x86_64/egg/deepxde/geometry/geometry_3d.py to geometry_3d.cpython-37.pyc\n",
            "byte-compiling build/bdist.linux-x86_64/egg/deepxde/geometry/sampler.py to sampler.cpython-37.pyc\n",
            "byte-compiling build/bdist.linux-x86_64/egg/deepxde/geometry/csg.py to csg.cpython-37.pyc\n",
            "byte-compiling build/bdist.linux-x86_64/egg/deepxde/postprocessing.py to postprocessing.cpython-37.pyc\n",
            "byte-compiling build/bdist.linux-x86_64/egg/deepxde/__init__.py to __init__.cpython-37.pyc\n",
            "byte-compiling build/bdist.linux-x86_64/egg/deepxde/display.py to display.cpython-37.pyc\n",
            "byte-compiling build/bdist.linux-x86_64/egg/deepxde/utils/tensorflow.py to tensorflow.cpython-37.pyc\n",
            "byte-compiling build/bdist.linux-x86_64/egg/deepxde/utils/array_ops_compat.py to array_ops_compat.cpython-37.pyc\n",
            "byte-compiling build/bdist.linux-x86_64/egg/deepxde/utils/__init__.py to __init__.cpython-37.pyc\n",
            "byte-compiling build/bdist.linux-x86_64/egg/deepxde/utils/external.py to external.cpython-37.pyc\n",
            "byte-compiling build/bdist.linux-x86_64/egg/deepxde/utils/pytorch.py to pytorch.cpython-37.pyc\n",
            "byte-compiling build/bdist.linux-x86_64/egg/deepxde/utils/internal.py to internal.cpython-37.pyc\n",
            "byte-compiling build/bdist.linux-x86_64/egg/deepxde/utils/tensorflow_compat_v1.py to tensorflow_compat_v1.cpython-37.pyc\n",
            "byte-compiling build/bdist.linux-x86_64/egg/deepxde/icbcs/boundary_conditions.py to boundary_conditions.cpython-37.pyc\n",
            "byte-compiling build/bdist.linux-x86_64/egg/deepxde/icbcs/__init__.py to __init__.cpython-37.pyc\n",
            "byte-compiling build/bdist.linux-x86_64/egg/deepxde/icbcs/initial_conditions.py to initial_conditions.cpython-37.pyc\n",
            "byte-compiling build/bdist.linux-x86_64/egg/deepxde/optimizers/tensorflow_compat_v1/scipy_optimizer.py to scipy_optimizer.cpython-37.pyc\n",
            "byte-compiling build/bdist.linux-x86_64/egg/deepxde/optimizers/tensorflow_compat_v1/optimizers.py to optimizers.cpython-37.pyc\n",
            "byte-compiling build/bdist.linux-x86_64/egg/deepxde/optimizers/tensorflow_compat_v1/__init__.py to __init__.cpython-37.pyc\n",
            "byte-compiling build/bdist.linux-x86_64/egg/deepxde/optimizers/tensorflow_compat_v1/tfp_optimizer.py to tfp_optimizer.cpython-37.pyc\n",
            "byte-compiling build/bdist.linux-x86_64/egg/deepxde/optimizers/config.py to config.cpython-37.pyc\n",
            "byte-compiling build/bdist.linux-x86_64/egg/deepxde/optimizers/__init__.py to __init__.cpython-37.pyc\n",
            "byte-compiling build/bdist.linux-x86_64/egg/deepxde/optimizers/tensorflow/optimizers.py to optimizers.cpython-37.pyc\n",
            "byte-compiling build/bdist.linux-x86_64/egg/deepxde/optimizers/tensorflow/__init__.py to __init__.cpython-37.pyc\n",
            "byte-compiling build/bdist.linux-x86_64/egg/deepxde/optimizers/tensorflow/tfp_optimizer.py to tfp_optimizer.cpython-37.pyc\n",
            "byte-compiling build/bdist.linux-x86_64/egg/deepxde/optimizers/pytorch/optimizers.py to optimizers.cpython-37.pyc\n",
            "byte-compiling build/bdist.linux-x86_64/egg/deepxde/optimizers/pytorch/__init__.py to __init__.cpython-37.pyc\n",
            "byte-compiling build/bdist.linux-x86_64/egg/deepxde/__about__.py to __about__.cpython-37.pyc\n",
            "byte-compiling build/bdist.linux-x86_64/egg/deepxde/model.py to model.cpython-37.pyc\n",
            "byte-compiling build/bdist.linux-x86_64/egg/deepxde/data/pde.py to pde.cpython-37.pyc\n",
            "byte-compiling build/bdist.linux-x86_64/egg/deepxde/data/data.py to data.cpython-37.pyc\n",
            "byte-compiling build/bdist.linux-x86_64/egg/deepxde/data/ide.py to ide.cpython-37.pyc\n",
            "byte-compiling build/bdist.linux-x86_64/egg/deepxde/data/func_constraint.py to func_constraint.cpython-37.pyc\n",
            "byte-compiling build/bdist.linux-x86_64/egg/deepxde/data/function.py to function.cpython-37.pyc\n",
            "byte-compiling build/bdist.linux-x86_64/egg/deepxde/data/fpde.py to fpde.cpython-37.pyc\n",
            "byte-compiling build/bdist.linux-x86_64/egg/deepxde/data/mf.py to mf.cpython-37.pyc\n",
            "byte-compiling build/bdist.linux-x86_64/egg/deepxde/data/__init__.py to __init__.cpython-37.pyc\n",
            "byte-compiling build/bdist.linux-x86_64/egg/deepxde/data/helper.py to helper.cpython-37.pyc\n",
            "byte-compiling build/bdist.linux-x86_64/egg/deepxde/data/constraint.py to constraint.cpython-37.pyc\n",
            "byte-compiling build/bdist.linux-x86_64/egg/deepxde/data/triple.py to triple.cpython-37.pyc\n",
            "byte-compiling build/bdist.linux-x86_64/egg/deepxde/data/sampler.py to sampler.cpython-37.pyc\n",
            "byte-compiling build/bdist.linux-x86_64/egg/deepxde/data/dataset.py to dataset.cpython-37.pyc\n",
            "byte-compiling build/bdist.linux-x86_64/egg/deepxde/data/mfopdataset.py to mfopdataset.cpython-37.pyc\n",
            "byte-compiling build/bdist.linux-x86_64/egg/deepxde/metrics.py to metrics.cpython-37.pyc\n",
            "creating build/bdist.linux-x86_64/egg/EGG-INFO\n",
            "copying DeepXDE.egg-info/PKG-INFO -> build/bdist.linux-x86_64/egg/EGG-INFO\n",
            "copying DeepXDE.egg-info/SOURCES.txt -> build/bdist.linux-x86_64/egg/EGG-INFO\n",
            "copying DeepXDE.egg-info/dependency_links.txt -> build/bdist.linux-x86_64/egg/EGG-INFO\n",
            "copying DeepXDE.egg-info/requires.txt -> build/bdist.linux-x86_64/egg/EGG-INFO\n",
            "copying DeepXDE.egg-info/top_level.txt -> build/bdist.linux-x86_64/egg/EGG-INFO\n",
            "zip_safe flag not set; analyzing archive contents...\n",
            "creating dist\n",
            "creating 'dist/DeepXDE-0.13.4-py3.7.egg' and adding 'build/bdist.linux-x86_64/egg' to it\n",
            "removing 'build/bdist.linux-x86_64/egg' (and everything under it)\n",
            "Processing DeepXDE-0.13.4-py3.7.egg\n",
            "Copying DeepXDE-0.13.4-py3.7.egg to /usr/local/lib/python3.7/dist-packages\n",
            "Adding DeepXDE 0.13.4 to easy-install.pth file\n",
            "\n",
            "Installed /usr/local/lib/python3.7/dist-packages/DeepXDE-0.13.4-py3.7.egg\n",
            "Processing dependencies for DeepXDE==0.13.4\n",
            "Searching for scipy==1.4.1\n",
            "Best match: scipy 1.4.1\n",
            "Adding scipy 1.4.1 to easy-install.pth file\n",
            "\n",
            "Using /usr/local/lib/python3.7/dist-packages\n",
            "Searching for scikit-optimize==0.8.1\n",
            "Best match: scikit-optimize 0.8.1\n",
            "Adding scikit-optimize 0.8.1 to easy-install.pth file\n",
            "\n",
            "Using /usr/local/lib/python3.7/dist-packages\n",
            "Searching for scikit-learn==0.22.2.post1\n",
            "Best match: scikit-learn 0.22.2.post1\n",
            "Adding scikit-learn 0.22.2.post1 to easy-install.pth file\n",
            "\n",
            "Using /usr/local/lib/python3.7/dist-packages\n",
            "Searching for numpy==1.19.5\n",
            "Best match: numpy 1.19.5\n",
            "Adding numpy 1.19.5 to easy-install.pth file\n",
            "Installing f2py script to /usr/local/bin\n",
            "Installing f2py3 script to /usr/local/bin\n",
            "Installing f2py3.7 script to /usr/local/bin\n",
            "\n",
            "Using /usr/local/lib/python3.7/dist-packages\n",
            "Searching for matplotlib==3.2.2\n",
            "Best match: matplotlib 3.2.2\n",
            "Adding matplotlib 3.2.2 to easy-install.pth file\n",
            "\n",
            "Using /usr/local/lib/python3.7/dist-packages\n",
            "Searching for joblib==1.0.1\n",
            "Best match: joblib 1.0.1\n",
            "Adding joblib 1.0.1 to easy-install.pth file\n",
            "\n",
            "Using /usr/local/lib/python3.7/dist-packages\n",
            "Searching for pyaml==21.8.3\n",
            "Best match: pyaml 21.8.3\n",
            "Adding pyaml 21.8.3 to easy-install.pth file\n",
            "\n",
            "Using /usr/local/lib/python3.7/dist-packages\n",
            "Searching for pyparsing==2.4.7\n",
            "Best match: pyparsing 2.4.7\n",
            "Adding pyparsing 2.4.7 to easy-install.pth file\n",
            "\n",
            "Using /usr/local/lib/python3.7/dist-packages\n",
            "Searching for kiwisolver==1.3.1\n",
            "Best match: kiwisolver 1.3.1\n",
            "Adding kiwisolver 1.3.1 to easy-install.pth file\n",
            "\n",
            "Using /usr/local/lib/python3.7/dist-packages\n",
            "Searching for cycler==0.10.0\n",
            "Best match: cycler 0.10.0\n",
            "Adding cycler 0.10.0 to easy-install.pth file\n",
            "\n",
            "Using /usr/local/lib/python3.7/dist-packages\n",
            "Searching for python-dateutil==2.8.2\n",
            "Best match: python-dateutil 2.8.2\n",
            "Adding python-dateutil 2.8.2 to easy-install.pth file\n",
            "\n",
            "Using /usr/local/lib/python3.7/dist-packages\n",
            "Searching for PyYAML==3.13\n",
            "Best match: PyYAML 3.13\n",
            "Adding PyYAML 3.13 to easy-install.pth file\n",
            "\n",
            "Using /usr/local/lib/python3.7/dist-packages\n",
            "Searching for six==1.15.0\n",
            "Best match: six 1.15.0\n",
            "Adding six 1.15.0 to easy-install.pth file\n",
            "\n",
            "Using /usr/local/lib/python3.7/dist-packages\n",
            "Finished processing dependencies for DeepXDE==0.13.4\n"
          ],
          "name": "stdout"
        }
      ]
    },
    {
      "cell_type": "code",
      "metadata": {
        "colab": {
          "base_uri": "https://localhost:8080/"
        },
        "id": "Yns9b38AovbL",
        "outputId": "99c17981-491e-4669-dc0e-c367c7a394b1"
      },
      "source": [
        "import deepxde"
      ],
      "execution_count": 7,
      "outputs": [
        {
          "output_type": "stream",
          "text": [
            "Deepxde backend not selected or invalid. Assuming tensorflow.compat.v1 for now.\n",
            "Using backend: tensorflow.compat.v1\n",
            "\n"
          ],
          "name": "stderr"
        },
        {
          "output_type": "stream",
          "text": [
            "Setting the default backend to \"tensorflow.compat.v1\". You can change it in the ~/.deepxde/config.json file or export the DDEBACKEND environment variable. Valid options are: tensorflow.compat.v1, tensorflow, pytorch (all lowercase)\n",
            "WARNING:tensorflow:From /usr/local/lib/python3.7/dist-packages/tensorflow/python/compat/v2_compat.py:101: disable_resource_variables (from tensorflow.python.ops.variable_scope) is deprecated and will be removed in a future version.\n",
            "Instructions for updating:\n",
            "non-resource variables are not supported in the long term\n",
            "WARNING:tensorflow:From /content/deepxde/deepxde/nn/initializers.py:120: The name tf.keras.initializers.he_normal is deprecated. Please use tf.compat.v1.keras.initializers.he_normal instead.\n",
            "\n"
          ],
          "name": "stdout"
        }
      ]
    },
    {
      "cell_type": "code",
      "metadata": {
        "colab": {
          "base_uri": "https://localhost:8080/"
        },
        "id": "w_rOiqEEvwMg",
        "outputId": "d22d7b96-c60d-4815-8730-e33098c777cf"
      },
      "source": [
        "%cd deepxde/"
      ],
      "execution_count": 18,
      "outputs": [
        {
          "output_type": "stream",
          "text": [
            "[Errno 2] No such file or directory: 'deepxde/'\n",
            "/content/deepxde/deepxde/optimizers\n"
          ],
          "name": "stdout"
        }
      ]
    },
    {
      "cell_type": "code",
      "metadata": {
        "colab": {
          "base_uri": "https://localhost:8080/"
        },
        "id": "k82BrJefp5Jl",
        "outputId": "5e1c0fd2-f749-48db-9617-eb3ebf67fe94"
      },
      "source": [
        "%cd optimizers/"
      ],
      "execution_count": 11,
      "outputs": [
        {
          "output_type": "stream",
          "text": [
            "/content/deepxde/deepxde/optimizers\n"
          ],
          "name": "stdout"
        }
      ]
    },
    {
      "cell_type": "code",
      "metadata": {
        "id": "yFSza8khqQ9t"
      },
      "source": [
        "%pycat config.py"
      ],
      "execution_count": 17,
      "outputs": []
    },
    {
      "cell_type": "code",
      "metadata": {
        "id": "f1xnnDLPrnMp"
      },
      "source": [
        "!rm config.py"
      ],
      "execution_count": 25,
      "outputs": []
    },
    {
      "cell_type": "code",
      "metadata": {
        "id": "a-0k4-JXrrTP"
      },
      "source": [
        ""
      ],
      "execution_count": null,
      "outputs": []
    },
    {
      "cell_type": "code",
      "metadata": {
        "colab": {
          "base_uri": "https://localhost:8080/"
        },
        "id": "yywrf7dJqQ6S",
        "outputId": "2f1ecab1-0253-4fd9-ec63-b5a87a554328"
      },
      "source": [
        "%%writefile config.py\n",
        "\n",
        "__all__ = [\"set_LBFGS_options\"]\n",
        "\n",
        "\n",
        "from ..backend import backend_name\n",
        "\n",
        "\n",
        "LBFGS_options = {}\n",
        "\n",
        "\n",
        "def set_LBFGS_options(\n",
        "    maxcor=100,\n",
        "    ftol=1.25e-12,\n",
        "    gtol=1e-9,\n",
        "    maxiter=250000,\n",
        "    maxfun=None,\n",
        "    maxls=50,\n",
        "):\n",
        "    \"\"\"Sets the hyperparameters of L-BFGS.\n",
        "\n",
        "    The L-BFGS optimizer used in each backend:\n",
        "\n",
        "    - TensorFlow 1.x: `scipy.optimize.minimize <https://docs.scipy.org/doc/scipy/reference/optimize.minimize-lbfgsb.html#optimize-minimize-lbfgsb>`_\n",
        "    - TensorFlow 2.x: `tfp.optimizer.lbfgs_minimize <https://www.tensorflow.org/probability/api_docs/python/tfp/optimizer/lbfgs_minimize>`_\n",
        "    - PyTorch: `torch.optim.LBFGS <https://pytorch.org/docs/stable/generated/torch.optim.LBFGS.html>`_\n",
        "\n",
        "    I find empirically that torch.optim.LBFGS and scipy.optimize.minimize are better than\n",
        "    tfp.optimizer.lbfgs_minimize in terms of the final loss value.\n",
        "\n",
        "    Args:\n",
        "        maxcor (int): `maxcor` (scipy), `num_correction_pairs` (tfp), `history_size` (torch).\n",
        "            The maximum number of variable metric corrections used to define the limited\n",
        "            memory matrix. (The limited memory BFGS method does not store the full\n",
        "            hessian but uses this many terms in an approximation to it.)\n",
        "        ftol (float): `ftol` (scipy), `f_relative_tolerance` (tfp), `tolerance_change` (torch).\n",
        "            The iteration stops when `(f^k - f^{k+1})/max{|f^k|,|f^{k+1}|,1} <= ftol`.\n",
        "        gtol (float): `gtol` (scipy), `tolerance` (tfp), `tolerance_grad` (torch).\n",
        "            The iteration will stop when `max{|proj g_i | i = 1, ..., n} <= gtol` where\n",
        "            `pg_i` is the i-th component of the projected gradient.\n",
        "        maxiter (int): `maxiter` (scipy), `max_iterations` (tfp), `max_iter` (torch).\n",
        "            Maximum number of iterations.\n",
        "        maxfun (int): `maxfun` (scipy), `max_eval` (torch).\n",
        "            Maximum number of function evaluations. If ``None``, `maxiter` * 1.25.\n",
        "        maxls (int): `maxls` (scipy), `max_line_search_iterations` (tfp).\n",
        "            Maximum number of line search steps (per iteration).\n",
        "    \"\"\"\n",
        "    global LBFGS_options\n",
        "    LBFGS_options[\"maxcor\"] = maxcor\n",
        "    LBFGS_options[\"ftol\"] = ftol\n",
        "    LBFGS_options[\"gtol\"] = gtol\n",
        "    LBFGS_options[\"maxiter\"] = maxiter\n",
        "    LBFGS_options[\"maxfun\"] = maxfun if maxfun is not None else int(maxiter * 1.25)\n",
        "    LBFGS_options[\"maxls\"] = maxls\n",
        "\n",
        "\n",
        "set_LBFGS_options()\n",
        "\n",
        "\n",
        "# Backend-dependent options\n",
        "if backend_name == \"pytorch\":\n",
        "    # number of iterations per optimization call\n",
        "    LBFGS_options[\"iter_per_step\"] = min(1000, LBFGS_options[\"maxiter\"])\n",
        "    LBFGS_options[\"fun_per_step\"] = (\n",
        "        LBFGS_options[\"maxfun\"]\n",
        "        * LBFGS_options[\"iter_per_step\"]\n",
        "        // LBFGS_options[\"maxiter\"]\n",
        "    )"
      ],
      "execution_count": 26,
      "outputs": [
        {
          "output_type": "stream",
          "text": [
            "Writing config.py\n"
          ],
          "name": "stdout"
        }
      ]
    },
    {
      "cell_type": "code",
      "metadata": {
        "id": "SiUl4Ta3qQuh"
      },
      "source": [
        ""
      ],
      "execution_count": null,
      "outputs": []
    },
    {
      "cell_type": "code",
      "metadata": {
        "colab": {
          "base_uri": "https://localhost:8080/",
          "height": 1000
        },
        "id": "4vSi0aSexHRD",
        "outputId": "08733c96-3b18-4eaa-9245-71f2fb61a790"
      },
      "source": [
        "#!/usr/bin/env python3\n",
        "# -*- coding: utf-8 -*-\n",
        "\"\"\"\n",
        "Created on Sun Aug 29 22:03:29 2021\n",
        "\n",
        "@author: sasha\n",
        "\"\"\"\n",
        "\n",
        "\n",
        "from __future__ import absolute_import\n",
        "from __future__ import division\n",
        "from __future__ import print_function\n",
        "\n",
        "import numpy as np\n",
        "\n",
        "import deepxde as dde\n",
        "from deepxde.backend import tf\n",
        "\n",
        "import math as m\n",
        "from mpl_toolkits.mplot3d import Axes3D\n",
        "import matplotlib.pyplot as plt\n",
        "\n",
        "from deepxde.callbacks import EarlyStopping\n",
        "\n",
        "\n",
        "\n",
        "\n",
        "def main():\n",
        "    k = float(0.0078) #sorption uptake rate, 1/s\n",
        "    D_0 = float(2e-7) #Diffusion coefficient through pores, m^2/s\n",
        "    alpha = float(100.0) # dimensioneless ratio q_sat/c_sat\n",
        "#   c_sat = float(7.14) #mol/m^3 saturation concentration in gas phase\n",
        "#   q_sat = alpha*c_sat #mol/m^3 saturation concentration in solid phase\n",
        "    L_0 = float(2000.0e-6) #length, m / thickness of paper\n",
        "    epsilon = float(0.5) #porosity\n",
        "    num_time = 1000 #time given for the diffusion, s    \n",
        "#   beta = 0.001\n",
        "    gamma = num_time * D_0 / (alpha*L_0**2)\n",
        "    \n",
        "    \n",
        "\n",
        "#parameters for dim.less equations\n",
        "\n",
        "    time = 1 #dim.less time \n",
        "    #real time is num_time*time [s]\n",
        "    \n",
        "    L = 1 #dim.less length - l/L_0\n",
        "    #real length is L_0 [m]\n",
        "\n",
        "#define the PDEs system\n",
        "\n",
        "    def pde(x, y):\n",
        "        c, q = y[:, 0:1], y[:, 1:2] #have to be >= 0. These are dim.less concentrations\n",
        "        \n",
        "        #real concentrations are c*c_sat and q*q_sat [mol/m^3]\n",
        "        \n",
        "        dc_t = dde.grad.jacobian(y, x, i=0, j=1)\n",
        "        dc_xx = dde.grad.hessian(y, x, component=0, i=0, j=0)\n",
        "        dq_t = dde.grad.jacobian(y, x, i=1, j=1)\n",
        " #      dq_xx = dde.grad.hessian(y, x, component=1, i=0, j=0)\n",
        "        eq_a = (1/alpha)*dc_t - gamma * dc_xx + ((1-epsilon)/epsilon) * dq_t \n",
        "        eq_b = dq_t - num_time * k * (1 - q) / (1 + tf.exp(-60.0*c))\n",
        "        return [eq_a, eq_b]\n",
        "\n",
        "#functions for initial \n",
        "    \n",
        "    def fun_init(x):\n",
        "        return np.exp(-5 * x[:, 0:1])+np.exp(-5 *(1 - x[:, 0:1]))\n",
        "\n",
        "#functions to define which points belong to boundaries\n",
        "\n",
        "    def boundary_left(x, on_boundary):\n",
        "        return on_boundary and np.isclose(x[0], 0)\n",
        "\n",
        "    def boundary_right(x, on_boundary):\n",
        "        return on_boundary and np.isclose(x[0], L)\n",
        "    \n",
        "#    def boundary_middle(x, on_boundary):\n",
        "#        return on_boundary and np.isclose(x[0], L/2)\n",
        "    \n",
        "#setting up the geometry and the time  \n",
        "\n",
        "    geom = dde.geometry.Interval(0, L)\n",
        "    timedomain = dde.geometry.TimeDomain(0, time)\n",
        "    geomtime = dde.geometry.GeometryXTime(geom, timedomain)\n",
        "\n",
        "#define boundary conditions \n",
        "\n",
        "\n",
        "    bc_a_left = dde.DirichletBC(\n",
        "        geomtime, lambda x: 1, boundary_left, component=0\n",
        "    )\n",
        "    \n",
        "    \n",
        "    bc_a_right = dde.DirichletBC(\n",
        "        geomtime, lambda x: 1, boundary_right, component=0\n",
        "    )\n",
        "    \n",
        "\n",
        "    bc_b_left = dde.DirichletBC(\n",
        "        geomtime, lambda x: 1, boundary_left, component=1\n",
        "    )\n",
        "    \n",
        "    bc_b_right = dde.DirichletBC(\n",
        "        geomtime, lambda x: 1, boundary_right, component=1\n",
        "    )\n",
        "    \n",
        "#    bc_a_middle = dde.NeumannBC(geomtime, lambda x: 0, boundary_middle, component=0)\n",
        "\n",
        "#    bc_b_middle = dde.NeumannBC(geomtime, lambda x: 0, boundary_middle, component=1)\n",
        "    \n",
        "#define initial conditions   \n",
        "    \n",
        "    ic1 = dde.IC(geomtime, fun_init, lambda _, on_initial: on_initial, component=0)\n",
        "    ic2 = dde.IC(geomtime, fun_init, lambda _, on_initial: on_initial, component=1)\n",
        "\n",
        "   # observe_x, Ca, Cb = gen_traindata()\n",
        "   # observe_y1 = dde.PointSetBC(observe_x, Ca, component=0)\n",
        "   # observe_y2 = dde.PointSetBC(observe_x, Cb, component=1)\n",
        "\n",
        "#put all together into a data container to feed the network afterwards\n",
        "\n",
        "    data = dde.data.TimePDE(\n",
        "        geomtime,\n",
        "        pde,\n",
        "        [bc_a_left, bc_a_right, bc_b_left, bc_b_right, ic1, ic2],\n",
        "        num_domain=10000,\n",
        "        num_boundary=1000,\n",
        "        num_initial=1000,\n",
        "      #  anchors=observe_x,\n",
        "        num_test=2000,\n",
        "\n",
        "    )\n",
        "    \n",
        "      \n",
        "    \n",
        "    \n",
        "    \n",
        "#define the network    \n",
        "\n",
        "\n",
        "#hard constraints for BC\n",
        "\n",
        "    def modify_output(X, y):\n",
        "        x, t = X[:, 0:1], X[:, 1:2]\n",
        "        c = y[:, 0:1]\n",
        "        c_new = x*(1.-x)*c + 1.\n",
        "        q = y[:, 1:2]\n",
        "        q_new = x*(1.-x)*q + 1.\n",
        "        \n",
        "        return tf.concat([c_new, q_new], axis=1)\n",
        "\n",
        "#    def modify_output(X, y):\n",
        "#         x, t = X[:, 0:1], X[:, 1:2]\n",
        "#         c = y[:, 0:1]\n",
        "#         c_new = t*x*(1.-x)*c + (tf.exp(-20*x)+tf.exp(-20*(1-x)))\n",
        "#         q = y[:, 1:2]\n",
        "#         q_new = t*x*(1.-x)*q + (tf.exp(-20*x)+tf.exp(-20*(1-x)))\n",
        "\n",
        "#         return tf.concat([c_new, q_new], axis=1)\n",
        "\n",
        "\n",
        "#define the network    \n",
        "#    dde.optimizers.set_LBFGS_options(gtol=1e-09)\n",
        "\n",
        "    net = dde.maps.FNN([2] + [30] * 5 + [2], \"tanh\", \"Glorot uniform\")  \n",
        "   \n",
        "    net.apply_output_transform(modify_output)                                                             \n",
        "                                                      \n",
        "\n",
        "    model = dde.Model(data, net)\n",
        "\n",
        " \n",
        "#    resampler = dde.callbacks.PDEResidualResampler(period=100)  \n",
        " \n",
        "    model.compile(\"adam\", lr=1e-3)\n",
        "    model.train(epochs=5000)\n",
        "    model.compile(\"L-BFGS-B\")\n",
        "    early_stopping = EarlyStopping(min_delta=1e-17, patience=200000)\n",
        "    losshistory, train_state = model.train(epochs = 200000, callbacks=[early_stopping])\n",
        "    dde.saveplot(losshistory, train_state, issave=True, isplot=True)\n",
        "    \n",
        "if __name__ == \"__main__\":\n",
        "    main()"
      ],
      "execution_count": 27,
      "outputs": [
        {
          "output_type": "stream",
          "text": [
            "Warning: 2000 points required, but 2025 points sampled.\n",
            "Compiling model...\n",
            "Building feed-forward neural network...\n",
            "'build' took 0.096422 s\n",
            "\n"
          ],
          "name": "stdout"
        },
        {
          "output_type": "stream",
          "text": [
            "/usr/local/lib/python3.7/dist-packages/keras/legacy_tf_layers/core.py:236: UserWarning: `tf.layers.dense` is deprecated and will be removed in a future version. Please use `tf.keras.layers.Dense` instead.\n",
            "  warnings.warn('`tf.layers.dense` is deprecated and '\n",
            "/usr/local/lib/python3.7/dist-packages/keras/engine/base_layer_v1.py:1676: UserWarning: `layer.apply` is deprecated and will be removed in a future version. Please use `layer.__call__` method instead.\n",
            "  warnings.warn('`layer.apply` is deprecated and '\n"
          ],
          "name": "stderr"
        },
        {
          "output_type": "stream",
          "text": [
            "'compile' took 1.727609 s\n",
            "\n",
            "Initializing variables...\n",
            "Training model...\n",
            "\n",
            "Step      Train loss                                                                          Test loss                                                                           Test metric\n",
            "0         [4.30e-03, 5.21e-02, 0.00e+00, 0.00e+00, 0.00e+00, 0.00e+00, 4.25e-01, 4.20e-01]    [3.70e-03, 6.49e-02, 0.00e+00, 0.00e+00, 0.00e+00, 0.00e+00, 4.25e-01, 4.20e-01]    []  \n",
            "1000      [3.89e-03, 6.46e-03, 0.00e+00, 0.00e+00, 0.00e+00, 0.00e+00, 6.14e-03, 2.15e-02]    [1.84e-04, 5.03e-04, 0.00e+00, 0.00e+00, 0.00e+00, 0.00e+00, 6.14e-03, 2.15e-02]    []  \n",
            "2000      [3.12e-03, 6.15e-03, 0.00e+00, 0.00e+00, 0.00e+00, 0.00e+00, 7.10e-03, 1.50e-02]    [3.02e-04, 6.79e-04, 0.00e+00, 0.00e+00, 0.00e+00, 0.00e+00, 7.10e-03, 1.50e-02]    []  \n",
            "3000      [6.40e-04, 1.75e-03, 0.00e+00, 0.00e+00, 0.00e+00, 0.00e+00, 1.22e-02, 2.50e-03]    [4.03e-04, 1.73e-03, 0.00e+00, 0.00e+00, 0.00e+00, 0.00e+00, 1.22e-02, 2.50e-03]    []  \n",
            "4000      [5.28e-04, 1.32e-03, 0.00e+00, 0.00e+00, 0.00e+00, 0.00e+00, 1.24e-02, 1.97e-03]    [3.10e-04, 1.32e-03, 0.00e+00, 0.00e+00, 0.00e+00, 0.00e+00, 1.24e-02, 1.97e-03]    []  \n",
            "5000      [4.52e-04, 8.15e-04, 0.00e+00, 0.00e+00, 0.00e+00, 0.00e+00, 1.27e-02, 1.22e-03]    [2.53e-04, 8.66e-04, 0.00e+00, 0.00e+00, 0.00e+00, 0.00e+00, 1.27e-02, 1.22e-03]    []  \n",
            "\n",
            "Best model at step 5000:\n",
            "  train loss: 1.52e-02\n",
            "  test loss: 1.50e-02\n",
            "  test metric: []\n",
            "\n",
            "'train' took 88.826017 s\n",
            "\n",
            "Compiling model...\n",
            "'compile' took 1.004808 s\n",
            "\n",
            "Training model...\n",
            "\n",
            "Step      Train loss                                                                          Test loss                                                                           Test metric\n",
            "5000      [4.52e-04, 8.15e-04, 0.00e+00, 0.00e+00, 0.00e+00, 0.00e+00, 1.27e-02, 1.22e-03]    [2.53e-04, 8.66e-04, 0.00e+00, 0.00e+00, 0.00e+00, 0.00e+00, 1.27e-02, 1.22e-03]    []  \n",
            "6000      [1.51e-04, 1.71e-04, 0.00e+00, 0.00e+00, 0.00e+00, 0.00e+00, 1.30e-02, 5.23e-04]                                                                                            \n",
            "7000      [1.29e-04, 1.40e-04, 0.00e+00, 0.00e+00, 0.00e+00, 0.00e+00, 1.30e-02, 5.15e-04]                                                                                            \n",
            "8000      [1.30e-04, 1.35e-04, 0.00e+00, 0.00e+00, 0.00e+00, 0.00e+00, 1.29e-02, 5.09e-04]                                                                                            \n",
            "9000      [1.32e-04, 1.39e-04, 0.00e+00, 0.00e+00, 0.00e+00, 0.00e+00, 1.29e-02, 5.08e-04]                                                                                            \n",
            "10000     [1.48e-04, 1.51e-04, 0.00e+00, 0.00e+00, 0.00e+00, 0.00e+00, 1.29e-02, 5.14e-04]                                                                                            \n",
            "11000     [2.68e-04, 2.83e-04, 0.00e+00, 0.00e+00, 0.00e+00, 0.00e+00, 1.24e-02, 5.51e-04]                                                                                            \n",
            "12000     [1.05e-03, 1.34e-03, 0.00e+00, 0.00e+00, 0.00e+00, 0.00e+00, 3.43e-03, 6.49e-04]                                                                                            \n",
            "13000     [5.41e-04, 8.49e-04, 0.00e+00, 0.00e+00, 0.00e+00, 0.00e+00, 2.61e-03, 2.41e-04]                                                                                            \n",
            "14000     [3.62e-04, 6.76e-04, 0.00e+00, 0.00e+00, 0.00e+00, 0.00e+00, 2.23e-03, 1.30e-04]                                                                                            \n",
            "15000     [3.73e-04, 5.39e-04, 0.00e+00, 0.00e+00, 0.00e+00, 0.00e+00, 1.94e-03, 8.30e-05]                                                                                            \n",
            "16000     [4.03e-04, 4.94e-04, 0.00e+00, 0.00e+00, 0.00e+00, 0.00e+00, 1.70e-03, 6.41e-05]                                                                                            \n",
            "17000     [3.78e-04, 4.63e-04, 0.00e+00, 0.00e+00, 0.00e+00, 0.00e+00, 1.60e-03, 5.12e-05]                                                                                            \n",
            "18000     [3.90e-04, 3.97e-04, 0.00e+00, 0.00e+00, 0.00e+00, 0.00e+00, 1.49e-03, 5.86e-05]                                                                                            \n",
            "19000     [3.28e-04, 3.89e-04, 0.00e+00, 0.00e+00, 0.00e+00, 0.00e+00, 1.45e-03, 4.82e-05]                                                                                            \n",
            "20000     [2.97e-04, 3.55e-04, 0.00e+00, 0.00e+00, 0.00e+00, 0.00e+00, 1.34e-03, 6.07e-05]                                                                                            \n",
            "21000     [3.28e-04, 3.58e-04, 0.00e+00, 0.00e+00, 0.00e+00, 0.00e+00, 1.22e-03, 2.88e-05]                                                                                            \n",
            "INFO:tensorflow:Optimization terminated with:\n",
            "  Message: b'STOP: TOTAL NO. of ITERATIONS REACHED LIMIT'\n",
            "  Objective function value: 0.001928\n",
            "  Number of iterations: 15000\n",
            "  Number of functions evaluations: 16043\n",
            "21043     [3.28e-04, 3.60e-04, 0.00e+00, 0.00e+00, 0.00e+00, 0.00e+00, 1.21e-03, 2.86e-05]    [1.09e-04, 2.33e-04, 0.00e+00, 0.00e+00, 0.00e+00, 0.00e+00, 1.21e-03, 2.86e-05]    []  \n",
            "\n",
            "Best model at step 21043:\n",
            "  train loss: 1.93e-03\n",
            "  test loss: 1.58e-03\n",
            "  test metric: []\n",
            "\n",
            "'train' took 522.154271 s\n",
            "\n",
            "Saving loss history to /content/deepxde/deepxde/optimizers/loss.dat ...\n",
            "Saving training data to /content/deepxde/deepxde/optimizers/train.dat ...\n",
            "Saving test data to /content/deepxde/deepxde/optimizers/test.dat ...\n"
          ],
          "name": "stdout"
        },
        {
          "output_type": "display_data",
          "data": {
            "image/png": "[encoded data removed]",
            "text/plain": [
              "<Figure size 432x288 with 1 Axes>"
            ]
          },
          "metadata": {
            "needs_background": "light"
          }
        },
        {
          "output_type": "display_data",
          "data": {
            "image/png": "[encoded data removed]",
            "text/plain": [
              "<Figure size 432x288 with 1 Axes>"
            ]
          },
          "metadata": {
            "needs_background": "light"
          }
        },
        {
          "output_type": "display_data",
          "data": {
            "image/png": "[encoded data removed]",
            "text/plain": [
              "<Figure size 432x288 with 1 Axes>"
            ]
          },
          "metadata": {
            "needs_background": "light"
          }
        }
      ]
    },
    {
      "cell_type": "code",
      "metadata": {
        "id": "4iD7Rn1b3fCE"
      },
      "source": [
        ""
      ],
      "execution_count": null,
      "outputs": []
    },
    {
      "cell_type": "code",
      "metadata": {
        "id": "BMoeY9OR2tvb"
      },
      "source": [
        ""
      ],
      "execution_count": null,
      "outputs": []
    }
  ]
}